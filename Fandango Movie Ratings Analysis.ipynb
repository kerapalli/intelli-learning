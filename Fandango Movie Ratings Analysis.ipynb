{
 "cells": [
  {
   "cell_type": "markdown",
   "metadata": {
    "collapsed": true
   },
   "source": [
    "# Fandango Movie Ratings Analysis\n",
    "\n",
    "Fandango is an online movie ratings aggregator. In October 2015, an analysis by Walk Hickey on the movie ratings data revealed that the Fandango's rating system was biased and dishonest. The ratings were generally inflated on the website than the actual ratings by the users.\n",
    "\n",
    "Fandango;s officials replied that the biased rating was caused by a bug in their system rather than intentional and they promised to fix the bug as soon as possible. Our goal in this project is to analyse more recent movie ratings data to determine whether there has been any change in Fandango;s rating system after Hickey's analysis."
   ]
  },
  {
   "cell_type": "code",
   "execution_count": 1,
   "metadata": {
    "collapsed": true
   },
   "outputs": [],
   "source": [
    "import pandas as pd\n",
    "import matplotlib.pyplot as plt\n",
    "fandango = pd.read_csv('fandango_score_comparison.csv')\n",
    "movie_ratings = pd.read_csv('movie_ratings_16_17.csv')"
   ]
  },
  {
   "cell_type": "code",
   "execution_count": 2,
   "metadata": {
    "collapsed": false
   },
   "outputs": [
    {
     "name": "stdout",
     "output_type": "stream",
     "text": [
      "(146, 5)\n"
     ]
    }
   ],
   "source": [
    "fandango_before = fandango[['FILM','Fandango_Stars','Fandango_Ratingvalue','Fandango_votes','Fandango_Difference']].copy()\n",
    "print(fandango_before.shape)"
   ]
  },
  {
   "cell_type": "code",
   "execution_count": 3,
   "metadata": {
    "collapsed": false
   },
   "outputs": [],
   "source": [
    "fandango_after = movie_ratings[['movie','year','fandango']].copy()"
   ]
  },
  {
   "cell_type": "markdown",
   "metadata": {
    "collapsed": true
   },
   "source": [
    "# Sampling Analysis\n",
    "\n",
    "Both the samples are neither population representatative nor random samples. This is because of following reasons.\n",
    "\n",
    "- In case of the fandando ratings before the Hickey's analysis movies with atleast 30 fandango reviews were considered.\n",
    "- In the case of movie ratings of 2016-2017 , the criteria for movies chosen are one with significant number of votes. We dont know what is considered as significant.\n",
    "\n",
    "Hence in we will change the goal of our analysis slightly as that seems a easier solution."
   ]
  },
  {
   "cell_type": "markdown",
   "metadata": {},
   "source": [
    "# Change of Goal\n",
    "\n",
    "We will change our goal in view of the purposive sampling performed on the movie ratings. \n",
    "\n",
    "We are going to change our goal from determing if there is any change to fandango's ratings after Hickey's analysis to see if there is change in fandango's ratings in 2016 compared to 2015. This new goal will act as a proxy to the previous goal.\n",
    "\n"
   ]
  },
  {
   "cell_type": "code",
   "execution_count": 4,
   "metadata": {
    "collapsed": false
   },
   "outputs": [
    {
     "data": {
      "text/plain": [
       "35"
      ]
     },
     "execution_count": 4,
     "metadata": {},
     "output_type": "execute_result"
    }
   ],
   "source": [
    "fandango_before['Fandango_votes'].min()"
   ]
  },
  {
   "cell_type": "code",
   "execution_count": 5,
   "metadata": {
    "collapsed": false
   },
   "outputs": [
    {
     "name": "stdout",
     "output_type": "stream",
     "text": [
      "                                        FILM  year  fandango\n",
      "108                   Mechanic: Resurrection  2016       4.0\n",
      "206                                 Warcraft  2016       4.0\n",
      "106                                Max Steel  2016       3.5\n",
      "107                            Me Before You  2016       4.5\n",
      "51   Fantastic Beasts and Where to Find Them  2016       4.5\n",
      "33                                      Cell  2016       3.0\n",
      "59                                    Genius  2016       3.5\n",
      "152                                    Sully  2016       4.5\n",
      "4                    A Hologram for the King  2016       3.0\n",
      "31                Captain America: Civil War  2016       4.5\n"
     ]
    }
   ],
   "source": [
    "random_movie = fandango_after.sample(10,random_state=1).rename(columns={'movie':'FILM'})\n",
    "print(random_movie)"
   ]
  },
  {
   "cell_type": "code",
   "execution_count": 6,
   "metadata": {
    "collapsed": false
   },
   "outputs": [
    {
     "name": "stdout",
     "output_type": "stream",
     "text": [
      "                             FILM  Fandango_Stars  Fandango_Ratingvalue  \\\n",
      "0  Avengers: Age of Ultron (2015)             5.0                   4.5   \n",
      "1               Cinderella (2015)             5.0                   4.5   \n",
      "2                  Ant-Man (2015)             5.0                   4.5   \n",
      "\n",
      "   Fandango_votes  Fandango_Difference  Year  \n",
      "0           14846                  0.5  2015  \n",
      "1           12640                  0.5  2015  \n",
      "2           12055                  0.5  2015  \n",
      "Empty DataFrame\n",
      "Columns: [movie, year, fandango]\n",
      "Index: []\n",
      "                 movie  year  fandango\n",
      "0  10 Cloverfield Lane  2016       3.5\n",
      "1             13 Hours  2016       4.5\n",
      "2  A Cure for Wellness  2016       3.0\n"
     ]
    }
   ],
   "source": [
    "fandango_before['Year']= fandango_before['FILM'].str[-5:-1]\n",
    "fandango_before_2015 = fandango_before[fandango_before['Year']=='2015']\n",
    "print(fandango_before_2015.head(3))\n",
    "fandango_after_2015 = fandango_after[fandango_after['year']==2015]\n",
    "print(fandango_after_2015.head(n=3))\n",
    "fandango_after_2016 =  fandango_after[fandango_after['year']==2016]\n",
    "print(fandango_after_2016.head(n=3))\n",
    "fandango_before_2016 = fandango_before[fandango_before['Year']=='2016']\n"
   ]
  },
  {
   "cell_type": "markdown",
   "metadata": {
    "collapsed": false
   },
   "source": [
    "Since the datasets have multiple years. We have separated the 2015 and 2016 ratings for our comparisons.\n",
    "\n",
    "# 2015 vs 2016 Rating Analysis"
   ]
  },
  {
   "cell_type": "code",
   "execution_count": 7,
   "metadata": {
    "collapsed": true
   },
   "outputs": [],
   "source": [
    "import seaborn as sns\n",
    "import numpy as np\n",
    "%matplotlib inline"
   ]
  },
  {
   "cell_type": "code",
   "execution_count": 8,
   "metadata": {
    "collapsed": false
   },
   "outputs": [
    {
     "name": "stdout",
     "output_type": "stream",
     "text": [
      "[0.  0.5 1.  1.5 2.  2.5 3.  3.5 4.  4.5 5. ]\n"
     ]
    }
   ],
   "source": [
    "plt.style.use('fivethirtyeight')\n",
    "xlabels = np.arange(0,5.1,0.5)\n",
    "print(xlabels)"
   ]
  },
  {
   "cell_type": "code",
   "execution_count": 9,
   "metadata": {
    "collapsed": false
   },
   "outputs": [
    {
     "data": {
      "image/png": "[encoded data removed]",
      "text/plain": [
       "<matplotlib.figure.Figure at 0x7f21055e2fd0>"
      ]
     },
     "metadata": {},
     "output_type": "display_data"
    }
   ],
   "source": [
    "fandango_before_2015['Fandango_Stars'].plot.kde(label='2015',legend=True,figsize=(8,5))\n",
    "fandango_after_2016['fandango'].plot.kde(label='2016',legend=True)\n",
    "plt.title('Fandango 2015/2016 Ratings',fontsize=20)\n",
    "plt.xlabel('Stars')\n",
    "plt.xticks(xlabels)\n",
    "plt.show()\n",
    "\n",
    "\n"
   ]
  },
  {
   "cell_type": "markdown",
   "metadata": {
    "collapsed": true
   },
   "source": [
    "- Both the distributions are left skewed. \n",
    "- The 2016 data is slightly shifted to the left compared to 2015 data.\n",
    "\n",
    "The left skew suggests that the ratings are more towards high or very high ratings. Looking at the 2 density plots we can clearly see that the 2016 movies has slightly lower rating compared to 2015 movies.\n",
    "\n",
    "We can also see the direction of the difference as 2016's movies has a slightly lower ratings."
   ]
  },
  {
   "cell_type": "markdown",
   "metadata": {
    "collapsed": true
   },
   "source": [
    "# Frequency Distribution Analysis\n",
    "\n",
    "Since the 2 samples have different number of movies , it does not make sense to compare absolute frequencies."
   ]
  },
  {
   "cell_type": "code",
   "execution_count": 10,
   "metadata": {
    "collapsed": false
   },
   "outputs": [
    {
     "data": {
      "image/png": "[encoded data removed]",
      "text/plain": [
       "<matplotlib.figure.Figure at 0x7f2103087b38>"
      ]
     },
     "metadata": {},
     "output_type": "display_data"
    }
   ],
   "source": [
    "intervals = pd.interval_range(start=0.,end=5.,freq=0.5)\n",
    "freq_2015 = pd.Series(index=intervals,data=[0]*10)\n",
    "freq_2016 = pd.Series(index=intervals,data=[0]*10)\n",
    "def construct_freq(df,freq):\n",
    "    for value in df:\n",
    "        for i in intervals:\n",
    "            if value in i:\n",
    "                freq.loc[i] +=1\n",
    "    return freq\n",
    "\n",
    "freq_2015 = construct_freq(fandango_before_2015['Fandango_Stars'],freq_2015)\n",
    "freq_2016 = construct_freq(fandango_after_2016['fandango'],freq_2016)\n",
    "freq_2015 = (freq_2015 / freq_2015.sum())*100\n",
    "freq_2016 = (freq_2016 / freq_2016.sum())*100\n",
    "fandango_before_2015['Fandango_Stars'].plot.hist(xticks=np.arange(0,5,0.5),label='2015',alpha=0.5,legend=True)\n",
    "fandango_after_2016['fandango'].plot.hist(xticks=np.arange(0,5,0.5),label='2016',alpha=0.5,legend=True)\n",
    "plt.show()\n"
   ]
  },
  {
   "cell_type": "code",
   "execution_count": 12,
   "metadata": {
    "collapsed": false
   },
   "outputs": [
    {
     "name": "stdout",
     "output_type": "stream",
     "text": [
      "(0.0, 0.5]     0.000000\n",
      "(0.5, 1.0]     0.000000\n",
      "(1.0, 1.5]     0.000000\n",
      "(1.5, 2.0]     0.000000\n",
      "(2.0, 2.5]     0.000000\n",
      "(2.5, 3.0]     8.527132\n",
      "(3.0, 3.5]    17.829457\n",
      "(3.5, 4.0]    28.682171\n",
      "(4.0, 4.5]    37.984496\n",
      "(4.5, 5.0]     6.976744\n",
      "dtype: float64\n",
      "(0.0, 0.5]     0.000000\n",
      "(0.5, 1.0]     0.000000\n",
      "(1.0, 1.5]     0.000000\n",
      "(1.5, 2.0]     0.000000\n",
      "(2.0, 2.5]     3.141361\n",
      "(2.5, 3.0]     7.329843\n",
      "(3.0, 3.5]    24.083770\n",
      "(3.5, 4.0]    40.314136\n",
      "(4.0, 4.5]    24.607330\n",
      "(4.5, 5.0]     0.523560\n",
      "dtype: float64\n",
      "count    129.000000\n",
      "mean       4.085271\n",
      "std        0.538096\n",
      "min        3.000000\n",
      "25%        3.500000\n",
      "50%        4.000000\n",
      "75%        4.500000\n",
      "max        5.000000\n",
      "Name: Fandango_Stars, dtype: float64\n",
      "count    191.000000\n",
      "mean       3.887435\n",
      "std        0.509540\n",
      "min        2.500000\n",
      "25%        3.500000\n",
      "50%        4.000000\n",
      "75%        4.250000\n",
      "max        5.000000\n",
      "Name: fandango, dtype: float64\n"
     ]
    }
   ],
   "source": [
    "print(freq_2015)\n",
    "print(freq_2016)\n",
    "print(fandango_before_2015['Fandango_Stars'].describe())\n",
    "print(fandango_after_2016['fandango'].describe())"
   ]
  },
  {
   "cell_type": "markdown",
   "metadata": {},
   "source": [
    "From the above frequency table distributions we see more 3.5-4.0 range ratings in 2016 compared 2015. We saw about 28% of the sample in the range in 2015 compared to 40% of the sample in 2016. \n",
    "We also see 3% of the sample in the 2.0-2.5 rating range in 2016 which was absent in the 2015.\n",
    "\n",
    "About 40% of the ratings are in 3.5-4.0 range in 2016 and about 37% of the ratings are in 4.0-4.5 range in 2015. These frequency distribution clearly shows the direction of the difference."
   ]
  },
  {
   "cell_type": "code",
   "execution_count": 17,
   "metadata": {
    "collapsed": false
   },
   "outputs": [
    {
     "data": {
      "text/html": [
       "<div>\n",
       "<style scoped>\n",
       "    .dataframe tbody tr th:only-of-type {\n",
       "        vertical-align: middle;\n",
       "    }\n",
       "\n",
       "    .dataframe tbody tr th {\n",
       "        vertical-align: top;\n",
       "    }\n",
       "\n",
       "    .dataframe thead th {\n",
       "        text-align: right;\n",
       "    }\n",
       "</style>\n",
       "<table border=\"1\" class=\"dataframe\">\n",
       "  <thead>\n",
       "    <tr style=\"text-align: right;\">\n",
       "      <th></th>\n",
       "      <th>2015</th>\n",
       "      <th>2016</th>\n",
       "    </tr>\n",
       "  </thead>\n",
       "  <tbody>\n",
       "    <tr>\n",
       "      <th>mean</th>\n",
       "      <td>4.085271</td>\n",
       "      <td>3.887435</td>\n",
       "    </tr>\n",
       "    <tr>\n",
       "      <th>mode</th>\n",
       "      <td>4.500000</td>\n",
       "      <td>4.000000</td>\n",
       "    </tr>\n",
       "    <tr>\n",
       "      <th>median</th>\n",
       "      <td>4.000000</td>\n",
       "      <td>4.000000</td>\n",
       "    </tr>\n",
       "  </tbody>\n",
       "</table>\n",
       "</div>"
      ],
      "text/plain": [
       "            2015      2016\n",
       "mean    4.085271  3.887435\n",
       "mode    4.500000  4.000000\n",
       "median  4.000000  4.000000"
      ]
     },
     "execution_count": 17,
     "metadata": {},
     "output_type": "execute_result"
    }
   ],
   "source": [
    "mean_2015 = fandango_before_2015['Fandango_Stars'].mean()\n",
    "mode_2015 = fandango_before_2015['Fandango_Stars'].mode()[0]\n",
    "median_2015 = fandango_before_2015['Fandango_Stars'].median()\n",
    "mean_2016 = fandango_after_2016['fandango'].mean()\n",
    "mode_2016 = fandango_after_2016['fandango'].mode()[0]\n",
    "median_2016 = fandango_after_2016['fandango'].median()\n",
    "summary = pd.DataFrame()\n",
    "summary['2015'] = [mean_2015,mode_2015,median_2015]\n",
    "summary['2016'] = [mean_2016,mode_2016,median_2016]\n",
    "summary.index = ['mean','mode','median']\n",
    "summary"
   ]
  },
  {
   "cell_type": "code",
   "execution_count": 31,
   "metadata": {
    "collapsed": false
   },
   "outputs": [
    {
     "data": {
      "image/png": "[encoded data removed]",
      "text/plain": [
       "<matplotlib.figure.Figure at 0x7f21028d3390>"
      ]
     },
     "metadata": {},
     "output_type": "display_data"
    }
   ],
   "source": [
    "summary['2015'].plot.bar(label='2015',color='blue',align='center',ylim=(0,5),legend=True,rot=0,figsize=(8,6),width=0.3)\n",
    "summary['2016'].plot.bar(label='2016',color='red',align='edge',ylim=(0,5),legend=True,rot=0,width=0.3)\n",
    "plt.ylabel('Stars')\n",
    "plt.yticks(np.arange(0,5.1,0.5))\n",
    "plt.title('Comparing summary statistics 2015 vs 2016')\n",
    "plt.show()"
   ]
  },
  {
   "cell_type": "markdown",
   "metadata": {},
   "source": [
    "- By comparing the mean, mode and median, the median hasnt changed but the mean is marginal less in 2016 compared to 2015 and mode is 0.5 lower in 2016 compared to 2015. \n",
    "\n",
    "- There is only a slight difference in the ratings and the magnitude if we take a look at the mode which is the highest frequency of the rating, more movies are rated 4.0 in 2016 compared to 4.5 in 2015. The magnitide of difference is 0.5 in terms of mode for the 2 samples.\n"
   ]
  },
  {
   "cell_type": "markdown",
   "metadata": {},
   "source": [
    "# Conclusion\n",
    "\n",
    "By comparing the 2 samples, we definitely see that ratings has changed slightly in 2016 after Hickey's analysis. We are not sure what changed but it looks like the fandango biased ratings seems to be fixed."
   ]
  },
  {
   "cell_type": "code",
   "execution_count": null,
   "metadata": {
    "collapsed": true
   },
   "outputs": [],
   "source": []
  }
 ],
 "metadata": {
  "kernelspec": {
   "display_name": "Python 3",
   "language": "python",
   "name": "python3"
  },
  "language_info": {
   "codemirror_mode": {
    "name": "ipython",
    "version": 3
   },
   "file_extension": ".py",
   "mimetype": "text/x-python",
   "name": "python",
   "nbconvert_exporter": "python",
   "pygments_lexer": "ipython3",
   "version": "3.4.3"
  }
 },
 "nbformat": 4,
 "nbformat_minor": 2
}
